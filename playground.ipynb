{
 "cells": [
  {
   "attachments": {},
   "cell_type": "markdown",
   "metadata": {},
   "source": [
    "untuk mengerjakan challenge pada modul ini:\n",
    "1. fork repository ini kedalam akun github masing-masing (format nama repo: **NIM_Modul-xx**, contoh: *I0320017_Modul-02*)\n",
    "2. clone repository hasil fork kedalam local masing-masing\n",
    "3. pelajari dan modifikasi file ini (playground.ipynb)\n",
    "4. run cell code yang telah dimodifikasi\n",
    "4. commit dan push hasil modifikasi ke repository hasil fork"
   ]
  },
  {
   "attachments": {},
   "cell_type": "markdown",
   "metadata": {},
   "source": [
    "---"
   ]
  },
  {
   "attachments": {},
   "cell_type": "markdown",
   "metadata": {},
   "source": [
    "**# untuk mengerjakan challenge ganti ___ dengan syntax yang sesuai**"
   ]
  },
  {
   "attachments": {},
   "cell_type": "markdown",
   "metadata": {},
   "source": [
    "## Input"
   ]
  },
  {
   "cell_type": "code",
   "execution_count": 28,
   "metadata": {},
   "outputs": [
    {
     "name": "stdout",
     "output_type": "stream",
     "text": [
      "Halo, Yulia\n"
     ]
    }
   ],
   "source": [
    "nama = input(\"Masukkan nama: \")\n",
    "print(\"Halo, \" + nama)"
   ]
  },
  {
   "cell_type": "code",
   "execution_count": 29,
   "metadata": {},
   "outputs": [
    {
     "name": "stdout",
     "output_type": "stream",
     "text": [
      "ID: 322131\n"
     ]
    }
   ],
   "source": [
    "# challenge 1\n",
    "# masukkan id pada input sesuai dengan tipe data yang sudah ditentukan\n",
    "id = int(input(\"Masukkan ID: \"))\n",
    "print(\"ID: \" + str(id))"
   ]
  },
  {
   "attachments": {},
   "cell_type": "markdown",
   "metadata": {},
   "source": [
    "## Tipe Data"
   ]
  },
  {
   "cell_type": "code",
   "execution_count": 30,
   "metadata": {},
   "outputs": [
    {
     "name": "stdout",
     "output_type": "stream",
     "text": [
      "<class 'str'>\n",
      "<class 'int'>\n",
      "<class 'str'>\n"
     ]
    }
   ],
   "source": [
    "nama = \"POSI\"\n",
    "tahun = 2020\n",
    "print(type(nama))\n",
    "print(type(tahun))\n",
    "print(type(\"TI UNS\"))"
   ]
  },
  {
   "attachments": {},
   "cell_type": "markdown",
   "metadata": {},
   "source": [
    "### 1. Numerik"
   ]
  },
  {
   "attachments": {},
   "cell_type": "markdown",
   "metadata": {},
   "source": [
    "#### a. Integer\n"
   ]
  },
  {
   "cell_type": "code",
   "execution_count": null,
   "metadata": {},
   "outputs": [
    {
     "name": "stdout",
     "output_type": "stream",
     "text": [
      "15\n",
      "5\n"
     ]
    }
   ],
   "source": [
    "a = 10\n",
    "b = 5\n",
    "print(a + b)\n",
    "print(a - b)"
   ]
  },
  {
   "cell_type": "code",
   "execution_count": null,
   "metadata": {},
   "outputs": [],
   "source": [
    "x = 10\n",
    "user = int(input(\"Enter a number: \"))\n",
    "\n",
    "while user != x:\n",
    "    if user > x:\n",
    "        print(\"Too high\")\n",
    "    elif user < x:\n",
    "        print(\"Too low\")\n",
    "    else:\n",
    "        print(\"Number correct\")\n",
    "    user = int(input(\"Enter a number: \"))"
   ]
  },
  {
   "cell_type": "code",
   "execution_count": 21,
   "metadata": {},
   "outputs": [
    {
     "name": "stdout",
     "output_type": "stream",
     "text": [
      "10 pangkat 3 = 1000\n"
     ]
    }
   ],
   "source": [
    "# challenge 2\n",
    "x = 10\n",
    "y = 3\n",
    "\n",
    "command = int(input(\"Masukkan command: \"))\n",
    "if command == 1:\n",
    "    print(f\"{x} pangkat {y} = {x ** y}\") # output seharusnya 1000\n",
    "else:\n",
    "    print(\"Command tidak dikenali\")\n"
   ]
  },
  {
   "attachments": {},
   "cell_type": "markdown",
   "metadata": {},
   "source": [
    "#### b. Float\n"
   ]
  },
  {
   "cell_type": "code",
   "execution_count": null,
   "metadata": {},
   "outputs": [
    {
     "name": "stdout",
     "output_type": "stream",
     "text": [
      "harga total adalah 26500.0 ribu rupiah\n"
     ]
    }
   ],
   "source": [
    "mie_iblis = 13.5\n",
    "udang_keju = 13\n",
    "\n",
    "print(\"harga total adalah {} ribu rupiah\".format((mie_iblis + udang_keju)*1000))"
   ]
  },
  {
   "cell_type": "code",
   "execution_count": null,
   "metadata": {},
   "outputs": [
    {
     "name": "stdout",
     "output_type": "stream",
     "text": [
      "x ceil = 121.57\n"
     ]
    }
   ],
   "source": [
    "x = 121.5689\n",
    "# dibulatkan ke atas\n",
    "print(\"x ceil = {:.2f}\".format(x))"
   ]
  },
  {
   "cell_type": "code",
   "execution_count": 1,
   "metadata": {},
   "outputs": [
    {
     "name": "stdout",
     "output_type": "stream",
     "text": [
      "x + y = 241.0\n"
     ]
    }
   ],
   "source": [
    "# challenge 3\n",
    "# modifikasi value x dan y\n",
    "x = 120.5\n",
    "y = 120.5\n",
    "print(f\"x + y = {x + y}\") # x + y should be 241"
   ]
  },
  {
   "attachments": {},
   "cell_type": "markdown",
   "metadata": {},
   "source": [
    "#### c. Complex"
   ]
  },
  {
   "cell_type": "code",
   "execution_count": null,
   "metadata": {},
   "outputs": [
    {
     "name": "stdout",
     "output_type": "stream",
     "text": [
      "2.0\n",
      "3.0\n"
     ]
    }
   ],
   "source": [
    "z = 2+3j\n",
    "print(z.real)\n",
    "print(z.imag)"
   ]
  },
  {
   "attachments": {},
   "cell_type": "markdown",
   "metadata": {},
   "source": [
    "### 2. String"
   ]
  },
  {
   "cell_type": "code",
   "execution_count": null,
   "metadata": {},
   "outputs": [
    {
     "name": "stdout",
     "output_type": "stream",
     "text": [
      "Arctic Monkeys released AM in 2013\n"
     ]
    }
   ],
   "source": [
    "artist = \"Arctic Monkeys\"\n",
    "album = \"AM\"\n",
    "year = 2013\n",
    "print(f\"{artist} released {album} in {year}\")"
   ]
  },
  {
   "cell_type": "code",
   "execution_count": null,
   "metadata": {},
   "outputs": [
    {
     "name": "stdout",
     "output_type": "stream",
     "text": [
      "Access granted\n"
     ]
    }
   ],
   "source": [
    "password = \"imperiale2022\"\n",
    "\n",
    "pwd = input(\"Enter password: \")\n",
    "if pwd.lower() == password:\n",
    "    print(\"Access granted\")\n",
    "else:\n",
    "    print(\"Access denied\")"
   ]
  },
  {
   "attachments": {},
   "cell_type": "markdown",
   "metadata": {},
   "source": [
    "### 3. Sequence"
   ]
  },
  {
   "attachments": {},
   "cell_type": "markdown",
   "metadata": {},
   "source": [
    "#### a. List"
   ]
  },
  {
   "cell_type": "code",
   "execution_count": null,
   "metadata": {},
   "outputs": [
    {
     "name": "stdout",
     "output_type": "stream",
     "text": [
      "1\n",
      "['dua', 3.0]\n",
      "['a', 'b', 'c']\n",
      "b\n"
     ]
    }
   ],
   "source": [
    "ini_list = [1, \"dua\", 3.0, \"empat\", \"decimal\", [\"a\", \"b\", \"c\"]]\n",
    "print(ini_list[0])\n",
    "print(ini_list[1:3])\n",
    "print(ini_list[-1])\n",
    "print(ini_list[5][1])"
   ]
  },
  {
   "cell_type": "code",
   "execution_count": 14,
   "metadata": {},
   "outputs": [
    {
     "name": "stdout",
     "output_type": "stream",
     "text": [
      "[9, 7, 5, 3, 1]\n"
     ]
    }
   ],
   "source": [
    "# challenge 4\n",
    "list2 = [1, 2, 3, 4, 5, 6, 7, 8, 9, 10]\n",
    "print(list2[-2::-2]) # output seharusnya [9, 7, 5, 3, 1]"
   ]
  },
  {
   "cell_type": "code",
   "execution_count": 12,
   "metadata": {},
   "outputs": [
    {
     "name": "stdout",
     "output_type": "stream",
     "text": [
      "['John', 25, 'orange', True, 3.14, 'apple']\n"
     ]
    }
   ],
   "source": [
    "# challenge 5\n",
    "ls = [\"John\", 25, True, 3.14, \"apple\"]\n",
    "ls.insert(2, \"orange\")\n",
    "print(ls) # Output: ['John', 25, 'orange', True, 3.14, 'apple']"
   ]
  },
  {
   "attachments": {},
   "cell_type": "markdown",
   "metadata": {},
   "source": [
    "#### b. Tuple"
   ]
  },
  {
   "cell_type": "code",
   "execution_count": null,
   "metadata": {},
   "outputs": [
    {
     "name": "stdout",
     "output_type": "stream",
     "text": [
      "1\n",
      "2\n",
      "3\n"
     ]
    }
   ],
   "source": [
    "ini_tuple = (1, \"dua\", 3.0, \"empat\", \"decimal\", [\"a\", \"b\", \"c\"], 1)\n",
    "print(ini_tuple[0])\n",
    "print(ini_tuple.count(1))\n",
    "print(ini_tuple.index(\"empat\"))"
   ]
  },
  {
   "attachments": {},
   "cell_type": "markdown",
   "metadata": {},
   "source": [
    "### 4. Dictionary"
   ]
  },
  {
   "cell_type": "code",
   "execution_count": 1,
   "metadata": {},
   "outputs": [],
   "source": [
    "employee = {\n",
    "    'name': 'Erik',\n",
    "    'age': 53,\n",
    "    'address': 'Jl. Mangkunegaran 10',\n",
    "    'hobbies': ['reading', 'swimming', 'travelling'],\n",
    "    'is_married': True,\n",
    "    'children': {\n",
    "    'son': 'Ethan',\n",
    "    'daughter': 'Emily'\n",
    "    }\n",
    "}"
   ]
  },
  {
   "cell_type": "code",
   "execution_count": 2,
   "metadata": {},
   "outputs": [
    {
     "name": "stdout",
     "output_type": "stream",
     "text": [
      "Samuel\n"
     ]
    }
   ],
   "source": [
    "# challenge 6\n",
    "# ubah value dari key 'name' menjadi 'Samuel'\n",
    "employee['name'] = \"Samuel\"\n",
    "print(employee['name'])"
   ]
  },
  {
   "cell_type": "code",
   "execution_count": 16,
   "metadata": {},
   "outputs": [
    {
     "name": "stdout",
     "output_type": "stream",
     "text": [
      "18\n"
     ]
    }
   ],
   "source": [
    "# challenge 7\n",
    "# ubah value dari key 'age' menjadi 20 berdasatkan input user\n",
    "employee = {\n",
    "    'name': 'Erik',\n",
    "    'age': 53,\n",
    "    'address': 'Jl. Mangkunegaran 10',\n",
    "    'hobbies': ['reading', 'swimming', 'travelling'],\n",
    "    'is_married': True,\n",
    "    'children': {\n",
    "    'son': 'Ethan',\n",
    "    'daughter': 'Emily'\n",
    "    }\n",
    "}\n",
    "\n",
    "employee['age'] = int(input(\"Please type your age :\"))\n",
    "print(employee['age'])"
   ]
  },
  {
   "cell_type": "code",
   "execution_count": 6,
   "metadata": {},
   "outputs": [
    {
     "name": "stdout",
     "output_type": "stream",
     "text": [
      "{0, 1, 2, 3, 4, 5, 6, 7, 8, 9}\n",
      "{0, 1, 2, 3, 4, 5, 6, 7, 8, 9}\n",
      "{0, 1, 2, 3, 4, 5, 6, 7, 8, 9, -1}\n",
      "{0, 1, 2, 3, 4, 5, 6, 7, 8, 9, 'TES', -1}\n",
      "{0, 1, 2, 3, 4, 5, 6, 7, 8, 9, 'TAS', 'TES', -1}\n"
     ]
    }
   ],
   "source": [
    "SET1 = {8,9,7,3,2,0,1,6,4,5}\n",
    "print(SET1)\n",
    "SET1.add(8)\n",
    "print(SET1)\n",
    "SET1.add(-1)\n",
    "print(SET1)\n",
    "SET1.add('TES')\n",
    "print(SET1)\n",
    "SET1.add('TAS')\n",
    "print(SET1)\n"
   ]
  },
  {
   "cell_type": "code",
   "execution_count": 2,
   "metadata": {},
   "outputs": [
    {
     "name": "stdout",
     "output_type": "stream",
     "text": [
      "True\n",
      "True\n"
     ]
    }
   ],
   "source": [
    "#Boolean\n",
    "\n",
    "boolean1 = 10<6*2\n",
    "print(boolean1)\n",
    "\n",
    "boolean2 = \"120\" >= \"120\"\n",
    "print(boolean2)"
   ]
  },
  {
   "cell_type": "code",
   "execution_count": 8,
   "metadata": {},
   "outputs": [
    {
     "name": "stdout",
     "output_type": "stream",
     "text": [
      "0b1\n",
      "0b10\n",
      "0b11\n",
      "0b100\n",
      "0b101\n",
      "0b110\n",
      "0b111\n"
     ]
    }
   ],
   "source": [
    "#Binary\n",
    "\n",
    "biner1 = bin(1)\n",
    "print(biner1)\n",
    "biner2 = bin(2)\n",
    "print(biner2)\n",
    "biner3 = bin(3)\n",
    "print(biner3)\n",
    "biner4 = bin(4)\n",
    "print(biner4)\n",
    "biner5 = bin(5)\n",
    "print(biner5)\n",
    "biner6 = bin(6)\n",
    "print(biner6)\n",
    "biner7 = bin(7)\n",
    "print(biner7)"
   ]
  },
  {
   "cell_type": "code",
   "execution_count": 13,
   "metadata": {},
   "outputs": [
    {
     "name": "stdout",
     "output_type": "stream",
     "text": [
      "suhu dalam farenheit adalah : 89.6 F\n"
     ]
    }
   ],
   "source": [
    "#konversi celcius ke farenheit\n",
    "suhu = int(input(\"Masukkan suhu dalam celcius :\"))\n",
    "farenheit = (9/5) * suhu + 32\n",
    "print(f\"suhu dalam farenheit adalah : {farenheit} F\")"
   ]
  },
  {
   "cell_type": "code",
   "execution_count": 21,
   "metadata": {},
   "outputs": [
    {
     "name": "stdout",
     "output_type": "stream",
     "text": [
      "suhu dalam farenheit adalah : -401.8 F\n"
     ]
    }
   ],
   "source": [
    "#konversi kelvin ke farenheit integer version\n",
    "suhu = int(input(\"Masukkan suhu dalam kelvin :\"))\n",
    "farenheit = (9/5) * (suhu-273) + 32\n",
    "print(f\"suhu dalam farenheit adalah : {farenheit} F\")"
   ]
  },
  {
   "cell_type": "code",
   "execution_count": 20,
   "metadata": {},
   "outputs": [
    {
     "name": "stdout",
     "output_type": "stream",
     "text": [
      "suhu dalam farenheit adalah : -401.8 F\n"
     ]
    }
   ],
   "source": [
    "#konversi kelvin ke farenheit float version\n",
    "suhu = float(input(\"Masukkan suhu dalam kelvin :\"))\n",
    "farenheit = (9/5) * (suhu-273) + 32\n",
    "print(f\"suhu dalam farenheit adalah : {farenheit} F\")"
   ]
  },
  {
   "cell_type": "code",
   "execution_count": 19,
   "metadata": {},
   "outputs": [
    {
     "name": "stdout",
     "output_type": "stream",
     "text": [
      "{'Mahasiswa1': {'Nama': 'Adz-Dzikra', 'Asal': 'Klaten'}, 'Mahasiswa2': {'Nama': 'Chanisa', 'Asal': 'Boyolali'}, 'Mahasiswa3': {'Nama': 'Cinta', 'Asal': 'Karanganyar'}}\n",
      "{'Mahasiswa1': {'Nama': 'Fatihah', 'Asal': 'Surakarta'}, 'Mahasiswa2': {'Nama': 'Devi', 'Asal': 'Sragen'}, 'Mahasiswa3': {'Nama': 'Karin', 'Asal': 'Medan'}}\n",
      "{'Mahasiswa1': {'Nama': 'Novita', 'Asal': 'Sukabumi'}, 'Mahasiswa2': {'Nama': 'Mira', 'Asal': 'Merauke'}, 'Mahasiswa3': {'Nama': 'Nadya', 'Asal': 'Sukoharjo'}}\n",
      "{'Mahasiswa1': {'Nama': 'Ara', 'Asal': 'Batam'}, 'Mahasiswa2': {'Nama': 'Tara', 'Asal': 'Jakarta Selatan'}, 'Mahasiswa3': {'Nama': 'Dela', 'Asal': 'Tangerang'}}\n"
     ]
    }
   ],
   "source": [
    "imperiale2022 = {\n",
    "    \"KelasA\" : {\n",
    "        \"Mahasiswa1\" : {\n",
    "            \"Nama\" : \"Adz-Dzikra\",\n",
    "            \"Asal\" : \"Klaten\",\n",
    "        },\n",
    "        \"Mahasiswa2\" : {\n",
    "            \"Nama\" : \"Chanisa\",\n",
    "            \"Asal\" : \"Boyolali\",\n",
    "        },\n",
    "        \"Mahasiswa3\" : {\n",
    "            \"Nama\" : \"Cinta\",\n",
    "            \"Asal\" : \"Karanganyar\"\n",
    "        },\n",
    "    },\n",
    "    \"KelasB\" : {\n",
    "        \"Mahasiswa1\" : {\n",
    "            \"Nama\" : \"Fatihah\",\n",
    "            \"Asal\" : \"Surakarta\",\n",
    "        },\n",
    "        \"Mahasiswa2\" : {\n",
    "            \"Nama\" : \"Devi\",\n",
    "            \"Asal\" : \"Sragen\",\n",
    "        },\n",
    "        \"Mahasiswa3\" : {\n",
    "            \"Nama\" : \"Karin\",\n",
    "            \"Asal\" : \"Medan\",\n",
    "        },\n",
    "    },\n",
    "    \"KelasC\" : {\n",
    "        \"Mahasiswa1\" : {\n",
    "            \"Nama\" : \"Novita\",\n",
    "            \"Asal\" : \"Sukabumi\",\n",
    "        },\n",
    "        \"Mahasiswa2\" : {\n",
    "            \"Nama\" : \"Mira\",\n",
    "            \"Asal\" : \"Merauke\",\n",
    "        },\n",
    "        \"Mahasiswa3\" : {\n",
    "            \"Nama\" : \"Nadya\",\n",
    "            \"Asal\" : \"Sukoharjo\",\n",
    "        },\n",
    "    },\n",
    "    \"KelasD\" : {\n",
    "        \"Mahasiswa1\" : {\n",
    "            \"Nama\" : \"Ara\",\n",
    "            \"Asal\" : \"Batam\",\n",
    "        },\n",
    "        \"Mahasiswa2\" : {\n",
    "            \"Nama\" : \"Tara\",\n",
    "            \"Asal\" : \"Jakarta Selatan\",\n",
    "        },\n",
    "        \"Mahasiswa3\" : {\n",
    "            \"Nama\" : \"Dela\",\n",
    "            \"Asal\" : \"Tangerang\",\n",
    "        },\n",
    "    },\n",
    "}\n",
    "print(imperiale2022[\"KelasA\"])\n",
    "print(imperiale2022[\"KelasB\"])\n",
    "print(imperiale2022[\"KelasC\"])\n",
    "print(imperiale2022[\"KelasD\"])"
   ]
  }
 ],
 "metadata": {
  "kernelspec": {
   "display_name": "Python 3",
   "language": "python",
   "name": "python3"
  },
  "language_info": {
   "codemirror_mode": {
    "name": "ipython",
    "version": 3
   },
   "file_extension": ".py",
   "mimetype": "text/x-python",
   "name": "python",
   "nbconvert_exporter": "python",
   "pygments_lexer": "ipython3",
   "version": "3.10.7"
  },
  "orig_nbformat": 4,
  "vscode": {
   "interpreter": {
    "hash": "5addf786bcd861d1ce5006f23111f8cbb206731e5b61b0a5632ba9e0252558a8"
   }
  }
 },
 "nbformat": 4,
 "nbformat_minor": 2
}
